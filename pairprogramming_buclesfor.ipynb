{
 "cells": [
  {
   "cell_type": "code",
   "execution_count": 10,
   "metadata": {},
   "outputs": [
    {
     "name": "stdout",
     "output_type": "stream",
     "text": [
      "1\n",
      "2\n",
      "3\n",
      "4\n",
      "5\n"
     ]
    }
   ],
   "source": [
    "#1. Imprimir los números del 1 al 5 uitlizando un bucle for\n",
    "\n",
    "for numeros in range (6):\n",
    "    if 1 <= numeros <=5:\n",
    "        print (numeros)"
   ]
  },
  {
   "cell_type": "code",
   "execution_count": 24,
   "metadata": {},
   "outputs": [
    {
     "name": "stdout",
     "output_type": "stream",
     "text": [
      "1\n",
      "3\n",
      "6\n",
      "10\n",
      "15\n",
      "21\n",
      "28\n",
      "36\n",
      "45\n",
      "55\n"
     ]
    }
   ],
   "source": [
    "#2. Calcular la suma de los primeros 10 números naturales utilizando un bucle for\n",
    "numeros_naturales = [1, 2, 3, 4, 5, 6, 7, 8, 9, 10]\n",
    "numeros_sumados = 0\n",
    "\n",
    "for i in numeros_naturales:\n",
    "    numeros_sumados = numeros_sumados + i\n",
    "    print (numeros_sumados)"
   ]
  },
  {
   "cell_type": "code",
   "execution_count": 27,
   "metadata": {},
   "outputs": [
    {
     "name": "stdout",
     "output_type": "stream",
     "text": [
      "1\n",
      "2\n",
      "6\n",
      "24\n",
      "120\n",
      "720\n",
      "5040\n",
      "40320\n",
      "362880\n",
      "3628800\n"
     ]
    }
   ],
   "source": [
    "#3. Calcular el producto de los elementos de una lista\n",
    "\n",
    "numeros_naturales = [1, 2, 3, 4, 5, 6, 7, 8, 9, 10]\n",
    "numeros_multiplicados = 1\n",
    "\n",
    "for i in numeros_naturales:\n",
    "    numeros_multiplicados = numeros_multiplicados * i\n",
    "    print (numeros_multiplicados)"
   ]
  },
  {
   "cell_type": "code",
   "execution_count": 28,
   "metadata": {},
   "outputs": [
    {
     "name": "stdout",
     "output_type": "stream",
     "text": [
      "Z\n",
      "a\n",
      "h\n",
      "a\n",
      "r\n",
      "a\n",
      " \n",
      "s\n",
      "e\n",
      " \n",
      "c\n",
      "a\n",
      "s\n",
      "a\n"
     ]
    }
   ],
   "source": [
    "#4. Imprimir los caracteres de una cadena de texto\n",
    "\n",
    "texto = \"Zahara se casa\"\n",
    "\n",
    "for letra in texto:\n",
    "    print (letra)"
   ]
  },
  {
   "cell_type": "code",
   "execution_count": 36,
   "metadata": {},
   "outputs": [
    {
     "name": "stdout",
     "output_type": "stream",
     "text": [
      "2\n",
      "4\n",
      "6\n",
      "8\n",
      "10\n",
      "12\n",
      "14\n",
      "16\n",
      "18\n",
      "20\n",
      "22\n",
      "24\n",
      "26\n",
      "28\n",
      "30\n",
      "32\n",
      "34\n",
      "36\n",
      "38\n",
      "40\n",
      "42\n",
      "44\n",
      "46\n",
      "48\n",
      "50\n",
      "52\n",
      "54\n",
      "56\n",
      "58\n",
      "60\n",
      "62\n",
      "64\n",
      "66\n",
      "68\n",
      "70\n",
      "72\n",
      "74\n",
      "76\n",
      "78\n",
      "80\n",
      "82\n",
      "84\n",
      "86\n",
      "88\n",
      "90\n",
      "92\n",
      "94\n",
      "96\n",
      "98\n",
      "100\n"
     ]
    }
   ],
   "source": [
    "#5. Imprimir los números pares del 1 al 100 utilizando un bucle for\n",
    "\n",
    "for i in range (2,101,2):\n",
    "    print (i)"
   ]
  },
  {
   "cell_type": "code",
   "execution_count": null,
   "metadata": {},
   "outputs": [],
   "source": [
    "#6. Imprimir los números primos del 1 al 50 utilizando un bucle for\n",
    "\n",
    "for i in range (0,50):\n",
    "    if i % 2 "
   ]
  }
 ],
 "metadata": {
  "kernelspec": {
   "display_name": "base",
   "language": "python",
   "name": "python3"
  },
  "language_info": {
   "codemirror_mode": {
    "name": "ipython",
    "version": 3
   },
   "file_extension": ".py",
   "mimetype": "text/x-python",
   "name": "python",
   "nbconvert_exporter": "python",
   "pygments_lexer": "ipython3",
   "version": "3.9.7"
  }
 },
 "nbformat": 4,
 "nbformat_minor": 2
}
