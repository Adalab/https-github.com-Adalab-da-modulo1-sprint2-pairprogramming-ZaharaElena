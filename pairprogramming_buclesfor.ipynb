{
 "cells": [
  {
   "cell_type": "markdown",
   "metadata": {},
   "source": [
    "Pair Bucles For"
   ]
  },
  {
   "cell_type": "markdown",
   "metadata": {},
   "source": [
    "Ejercicios bucles for"
   ]
  },
  {
   "cell_type": "code",
   "execution_count": null,
   "metadata": {},
   "outputs": [],
   "source": [
    "#1.  Imprimir los números del 1 al 5 utilizando un bucle for\n",
    "#Descripción: Utiliza un bucle for para imprimir los números del 1 al 50 (incluido) en orden ascendente.\n",
    "\n",
    "for numeros in range (6):\n",
    "    if 1 <= numeros <=6 :\n",
    "        print(numeros)\n",
    "\n"
   ]
  },
  {
   "cell_type": "code",
   "execution_count": null,
   "metadata": {},
   "outputs": [],
   "source": [
    "#2.  Calcular la suma de los primeros 10 números naturales utilizando un bucle for\n",
    "#Descripción: Utiliza un bucle for para calcular la suma de los primeros 10 números naturales (1 + 2 + 3 + ... + 10).\n",
    "\n",
    "numeros_naturales = [1,2,3,4,5,6,7,8,9,10]\n",
    "numeros_sumados = 0\n",
    "\n",
    "for i in numeros_naturales :\n",
    "    numeros_sumados = numeros_sumados + i\n",
    "    print (numeros_sumados)\n",
    "\n"
   ]
  },
  {
   "cell_type": "code",
   "execution_count": null,
   "metadata": {},
   "outputs": [],
   "source": [
    "#3. Calcular el producto de los elementos de una lista\n",
    "#Descripción: Dada una lista de números, utiliza un bucle for para calcular el producto de todos los elementos.\n",
    "\n",
    "numeros_naturales = [1,2,3,4,5,6,7,8,9,10]\n",
    "numeros_multiplicados = 1\n",
    "\n",
    "for i in numeros_naturales :\n",
    "    numeros_multiplicados = numeros_multiplicados * i\n",
    "    print (numeros_multiplicados)\n",
    "\n"
   ]
  },
  {
   "cell_type": "code",
   "execution_count": null,
   "metadata": {},
   "outputs": [],
   "source": [
    "#4.  Imprimir los caracteres de una cadena de texto\n",
    "#Descripción: Dada una cadena de texto, utiliza un bucle for para imprimir cada carácter en una línea separada.\n",
    "\n",
    "texto = \"Imprimir los caracteres de una cadena de texto\"\n",
    "\n",
    "for letra in texto:\n",
    "    print(letra)\n",
    "\n"
   ]
  },
  {
   "cell_type": "code",
   "execution_count": null,
   "metadata": {},
   "outputs": [],
   "source": [
    "#5.  Imprimir los números pares del 1 al 100 utilizando un bucle for\n",
    "#Descripción: Utiliza un bucle for para imprimir los números pares del 1 al 100 en orden ascendente.\n",
    "\n",
    "for i in range (2,101,2):\n",
    "    print(i)\n",
    "\n"
   ]
  },
  {
   "cell_type": "code",
   "execution_count": null,
   "metadata": {},
   "outputs": [],
   "source": [
    "#6.  Imprimir los números primos del 1 al 50 utilizando un bucle for\n",
    "#Descripción: Utiliza un bucle for para imprimir los números primos del 1 al 50 en orden ascendente.\n",
    "#NOTA: Según la Wikipedia, un número primo es un número natural mayor que 1 que no tiene divisores positivos más que 1 y él mismo.\n",
    "\n",
    "for numero in range (1,51):\n",
    "    if numero > 1 :\n",
    "        for n in range (2,numero) :\n",
    "            if (numero % n) == 0 :\n",
    "                break\n",
    "            else: \n",
    "                print (numero)\n",
    "    #else :                              No hace falta else?\n",
    "     #   print (\"\"?\"\")\n"
   ]
  },
  {
   "cell_type": "code",
   "execution_count": null,
   "metadata": {},
   "outputs": [],
   "source": [
    "#7.  Calcular el factorial de un número utilizando un bucle for\n",
    "#Descripción: Dado un número entero positivo, calcula su factorial utilizando un bucle for.\n",
    "\n",
    "#Cantidad que resulta de la multiplicación de determinado número natural por todos los números naturales que le anteceden excluyendo el cero; se representa por n!\n",
    "#\"el factorial de 4 es 24 (producto de 4 x 3 x 2 x 1)\"\n",
    "\n",
    "\n",
    "fac = 1 \n",
    "n = 9\n",
    "for i in range ( 2, n + 1 ) :\n",
    "    fac *= i\n",
    "    print (f\"El factorial de {i} sería {fac}\")\n",
    "\n",
    "\n",
    "\n"
   ]
  },
  {
   "cell_type": "code",
   "execution_count": null,
   "metadata": {},
   "outputs": [],
   "source": [
    "#8.  Juego de adivinar palabras utilizando un bucle for\n",
    "#Descripción: Crea un juego en el que el jugador debe adivinar una palabra secreta. \n",
    "#El jugador tiene un número limitado de intentos y se le proporcionan pistas después de cada intento. \n",
    "#Utiliza un bucle for para controlar los intentos del jugador.\n",
    "\n",
    "palabra_misteriosa = \"murcielago\"\n",
    "intentos = 5 \n",
    "for i in range (intentos) :\n",
    "    palabra_usuario = input (\"Escribe una palabra\")\n",
    "    if palabra_usuario == palabra_misteriosa :\n",
    "        print (f\"Has acertado, la palabra misteriosa era {palabra_misteriosa}\")\n",
    "        break\n",
    "    else : \n",
    "        intentos -= 1\n",
    "        print (f\"La palabra misteriosa no es {palabra_usuario}. Aún tienes {intentos} intentos\")\n",
    "        if intentos == 4 :\n",
    "            print(\"Pista 1: Se trata de un animal\")\n",
    "        if intentos == 3 :\n",
    "            print (\"Pista 2: Es un roeador\")\n",
    "        if intentos == 2 :\n",
    "            print (\"Pista 3: Está cegato\")\n",
    "        if intentos == 1 :\n",
    "            print (\"Pista 4: Cuelga patas arriba\")\n",
    "        if intentos < 1 :\n",
    "            print (\"GAME OVER, Batman estaría decepcionado\")\n",
    "\n"
   ]
  },
  {
   "cell_type": "markdown",
   "metadata": {},
   "source": [
    "Ejercicios list comprehension"
   ]
  },
  {
   "cell_type": "code",
   "execution_count": null,
   "metadata": {},
   "outputs": [],
   "source": [
    "#1.  Generar una lista de los números pares del 1 al 20.\n",
    "#Descripción: Utiliza list comprehension para generar una lista que contenga todos los números pares en el rango del 1 al 20.\n",
    "\n",
    "lista_numeros = range ( 1 , 21 )\n",
    "lista_numeros_pares = [ i for i in lista_numeros if i % 2 == 0 ] #sacadito de San Gugol, pero funcionar, funciona\n",
    "print (lista_numeros_pares)\n",
    "\n"
   ]
  },
  {
   "cell_type": "code",
   "execution_count": 10,
   "metadata": {},
   "outputs": [
    {
     "name": "stdout",
     "output_type": "stream",
     "text": [
      "['e', 'e', 'u', 'a', 'i', 'a', 'e', 'a', 'o', 'a', 'e', 'e', 'u', 'a', 'a', 'e', 'a', 'e', 'e', 'o']\n"
     ]
    }
   ],
   "source": [
    "#2.  Obtener una lista de las vocales en una cadena de texto.\n",
    "#Descripción: Utiliza list comprehension para crear una lista que contenga todas las vocales presentes en una cadena de texto (sin repetición).\n",
    "\n",
    "cadena_texto = \"Obtener una lista de las vocales en una cadena de texto\"\n",
    "vocales = \"a\", \"e\", \"i\", \"o\", \"u\"\n",
    "lista_vocales = [ i for i in cadena_texto if i in vocales ]\n",
    "print ( lista_vocales )\n",
    "\n"
   ]
  },
  {
   "cell_type": "code",
   "execution_count": 13,
   "metadata": {},
   "outputs": [
    {
     "name": "stdout",
     "output_type": "stream",
     "text": [
      "[4, 16, 30.25, 64, 4, 36, 72.25]\n"
     ]
    }
   ],
   "source": [
    "#3.  Filtrar los números positivos de una lista y calcular su cuadrado.\n",
    "#Descripción: Utiliza list comprehension para filtrar los números positivos de una lista y calcular el cuadrado de cada uno.\n",
    "\n",
    "lista_numeros = [ 2 , 4 , 5.5 , 8 , 2 , 6 , -89 , 8.5 ]\n",
    "numeros_2 = [ i **2 for i in lista_numeros if i > 0 ]\n",
    "print (numeros_2)\n",
    "\n"
   ]
  },
  {
   "cell_type": "markdown",
   "metadata": {},
   "source": [
    "Ejercicios Try ... except"
   ]
  },
  {
   "cell_type": "code",
   "execution_count": null,
   "metadata": {},
   "outputs": [],
   "source": [
    "#1.  Realizar una búsqueda en una lista y capturar una excepción en caso de valor no encontrado.\n",
    "#Descripción: Solicita al usuario una lista de nombres y un nombre para buscar en la lista. \n",
    "#Intenta encontrar el nombre en la lista y utiliza las sentencias try y except para capturar la excepción en caso de que el nombre no sea encontrado.\n",
    "\n",
    "\n",
    "\n"
   ]
  }
 ],
 "metadata": {
  "kernelspec": {
   "display_name": "base",
   "language": "python",
   "name": "python3"
  },
  "language_info": {
   "codemirror_mode": {
    "name": "ipython",
    "version": 3
   },
   "file_extension": ".py",
   "mimetype": "text/x-python",
   "name": "python",
   "nbconvert_exporter": "python",
   "pygments_lexer": "ipython3",
   "version": "3.9.7"
  }
 },
 "nbformat": 4,
 "nbformat_minor": 2
}
