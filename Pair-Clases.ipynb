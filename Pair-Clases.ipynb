{
 "cells": [
  {
   "cell_type": "markdown",
   "metadata": {},
   "source": [
    "# Ejercicios PAIR "
   ]
  },
  {
   "cell_type": "markdown",
   "metadata": {},
   "source": [
    "### Lección 8: Clase"
   ]
  },
  {
   "cell_type": "markdown",
   "metadata": {},
   "source": [
    "Ejercicios leccion tema\n"
   ]
  },
  {
   "cell_type": "code",
   "execution_count": 11,
   "metadata": {},
   "outputs": [],
   "source": [
    "from datetime import date"
   ]
  },
  {
   "cell_type": "code",
   "execution_count": 12,
   "metadata": {},
   "outputs": [
    {
     "name": "stdout",
     "output_type": "stream",
     "text": [
      "2023\n"
     ]
    }
   ],
   "source": [
    "today = date.today().year #antiguedad -años\n",
    "print(today)"
   ]
  },
  {
   "cell_type": "code",
   "execution_count": 13,
   "metadata": {},
   "outputs": [],
   "source": [
    "#EJERCICIO 1\n",
    "# Definimos la clase y sus atributos\n",
    "class Empleados :\n",
    "    def __init__ (self, nombre, apellidos, edad, posicion, año, vacaciones, herramientas) :\n",
    "        self.nombre = nombre\n",
    "        self.apellidos = apellidos\n",
    "        self.edad = edad\n",
    "        self.posicion = posicion\n",
    "        self.año = año\n",
    "        self.vacaciones = vacaciones \n",
    "        self.herramientas = herramientas\n",
    "\n",
    "# Definimos metodos\n",
    "\n",
    "#Metodo  1\n",
    "    def descripcion (self):\n",
    "        return f\"El empleado se llama {self.nombre} {self.apellidos}, su posición es {self.posicion} y le quedan {self.vacaciones} días de vacaciones. Y tiene estas habilidades {self.herramientas}\"\n",
    "    \n",
    "#Metodo  2\n",
    "    def cambiando_posicion (self):\n",
    "        if self.herramientas == \"Excel\".lower() :  \n",
    "            return \"Aprende Python, hijo mío, estás obsoleto\"\n",
    "        elif self.herramientas == \"Python\".lower() :\n",
    "            return \"Muy bien, chaval, vas aprendiendo\"\n",
    "        \n",
    "#Metodo 3\n",
    "    def calcular_antiguedad (self) : \n",
    "        today = date.today().year\n",
    "        antiguedad = (date.today().year) - (self.año)\n",
    "        return f\"Este empleado lleva en la empresa {antiguedad} años y {date.today().month} meses\"\n",
    "\n",
    "#ponemos el mes en el que estamos para simplificar, asumimos que ha entrado en enero\n",
    "\n",
    "#Metodo 4\n",
    "    def solicitar_aumento_vacaciones (self) :\n",
    "        dias_solicitados = int(input(\"¿Cuántos días de vacaciones te quieres tomar?\"))\n",
    "        while dias_solicitados <= 0 or  dias_solicitados > self.vacaciones :\n",
    "            print(\"Introduce un número válido\")\n",
    "            dias_solicitados = int(input(f\"Introduce un número entre 1 y {self.vacaciones}\"))\n",
    "\n",
    "        if dias_solicitados <= self.vacaciones :\n",
    "            self.vacaciones = self.vacaciones - dias_solicitados  \n",
    "            return f\"Después de pedir esos días te quedan {self.vacaciones}\"\n",
    "\n",
    "#Método5\n",
    "    def registrar_herramienta (self, nueva_herramienta):\n",
    "        \n",
    "        if nueva_herramienta in self.herramientas:\n",
    "            return f\"Esta herramienta ya está incluída en tu lista de habilidades\"\n",
    "        \n",
    "        else:\n",
    "            self.herramientas.append (nueva_herramienta)\n",
    "            return f\"Esta nueva habilidad ({nueva_herramienta}) se ha registrado correctamente en tu lista de habilidades: {self.herramientas}\"\n",
    "    \n",
    "\n",
    "#Método5_Z\n",
    "\n",
    "    def registrar_herramienta (self) :\n",
    "        nueva_herramienta = input (\"¿Qué herramienta quieres añadir?\")\n",
    "        if nueva_herramienta in self.herramientas :\n",
    "            return f\"Esa herramienta ya está anotada\"\n",
    "        elif nueva_herramienta not in self.herramientas :\n",
    "            self.herramientas.append(nueva_herramienta)\n",
    "            return f\"Se ha añadido {nueva_herramienta} a las herramientas.\"\n",
    "\n",
    "\n",
    "#Método6\n",
    "    def cambiar_posicion (self, nueva_posicion, nuevo_salario):\n",
    "        self.posicion = self.posicion.replace(self.posicion, nueva_posicion)\n",
    "        return f\"Enhorabuena por el ascenso a {self.posicion}. Tu salario ha incrementado, siendo actualmente de {nuevo_salario}\"\n",
    "\n",
    "#Método7\n",
    "    def tomar_vacaciones (self):\n",
    "        dias_a_solicitar = int(input(\"¿Cuántos días de vacaciones te quieres tomar?\"))\n",
    "        \n",
    "        while dias_a_solicitar <= 0 or  dias_a_solicitar > self.vacaciones:\n",
    "            print(\"Introduce un número válido\")\n",
    "            dias__a_solicitar = int(input(f\"Introduce un número entre 1 y {self.vacaciones}\"))\n",
    "        \n",
    "        if dias_a_solicitar <= self.vacaciones:\n",
    "            self.vacaciones = self.vacaciones - dias_a_solicitar  \n",
    "            return f\"Después de pedir esos días te quedan {self.vacaciones}\"\n",
    "\n",
    "#Método8\n",
    "    def solicitar_aumento_salario (self):\n",
    "        solicitud_salario = float(input(\"¿Qué aumento quieres solicitar?\"))\n",
    "        \n",
    "        while solicitud_salario <= 0:\n",
    "            salario_nuevo = float(input(\"¿Incluye un aumento porcentual válido (mayor que cero)\"))\n",
    "            return f\"El valor introducido de {solicitud_salario} es erróneo. Inserte el aumento porcentual deseado\"\n",
    "\n",
    "        if solicitud_salario > 0:\n",
    "            salario_nuevo = ((solicitud_salario/100) * salario_nuevo) + salario_nuevo\n",
    "            return f\"Tu solicitud de un aumento de {solicitud_salario}% ha sido validado. Después de este aumento, tu salario es de {salario_nuevo}\"\n",
    "\n",
    "#Metodo 9 #NO FUNCIONA\n",
    "\n",
    "    def realizar_evaluacion (self) :\n",
    "        \n",
    "        respuesta_valida = [\"Excelente\", \"Bueno\", \"Regular\", \"Malo\"]\n",
    "        solicitud = input(\"Califica tu desempeño como 'Excelente', 'Bueno', 'Regular' o 'Malo'.\")\n",
    "\n",
    "        #Definimos mensajes de retroalimentación\n",
    "        mensaje_excelente = \"Enhorabuena, estás contento con tu labor. Disfruta la autosatisfacción.\"\n",
    "        mensaje_bueno = \"Muy bien, cumples con tus expectativas, aunque siempre se puede aspirar a la perfección.\"\n",
    "        mensaje_regular = \"Eres autocrítico, eso está bien. Reflexiona sobre cómo podrías mejorar e impléntalo.\"\n",
    "        mensaje_malo = \"Tú mismo ves que no estás dando lo suficiente. Eso no es agradable. Piensa en cómo revertirlo. ¡Ánimo!\"\n",
    "\n",
    "        while solicitud  not in respuesta_valida :\n",
    "            solicitud = input(f\"Esa respuesta no es válida, elige entre {respuesta_valida}.\")\n",
    "        if solicitud == respuesta_valida[1] : \n",
    "            return mensaje_excelente     \n",
    "        elif solicitud == respuesta_valida[2] : \n",
    "            return mensaje_bueno  \n",
    "        elif solicitud in respuesta_valida[3] : \n",
    "            return mensaje_regular  \n",
    "        elif solicitud in respuesta_valida[4] : \n",
    "            return mensaje_malo  \n",
    "\n",
    "            #¿Sería mejor con print? Al ponerlo sin def funciona (más abajo)\n",
    "            \n",
    "\n",
    "\n",
    "    \n",
    "\n"
   ]
  },
  {
   "cell_type": "code",
   "execution_count": 14,
   "metadata": {},
   "outputs": [
    {
     "data": {
      "text/plain": [
       "\"El empleado se llama zahara prada, su posición es gerente y le quedan 10 días de vacaciones. Y tiene estas habilidades ['excel', 'word']\""
      ]
     },
     "execution_count": 14,
     "metadata": {},
     "output_type": "execute_result"
    }
   ],
   "source": [
    "zahara = Empleados(\"zahara\", \"prada\", 38, \"gerente\", 2020, 10, [\"excel\", \"word\"] )\n",
    "\n",
    "zahara.descripcion()"
   ]
  },
  {
   "cell_type": "code",
   "execution_count": 6,
   "metadata": {},
   "outputs": [
    {
     "data": {
      "text/plain": [
       "'Este empleado lleva en la empresa 3 años y 10 meses'"
      ]
     },
     "execution_count": 6,
     "metadata": {},
     "output_type": "execute_result"
    }
   ],
   "source": [
    "zahara.calcular_antiguedad()"
   ]
  },
  {
   "cell_type": "code",
   "execution_count": 7,
   "metadata": {},
   "outputs": [
    {
     "data": {
      "text/plain": [
       "\"Esta nueva habilidad (photoshop) se ha registrado correctamente en tu lista de habilidades: ['excel', 'word', 'photoshop']\""
      ]
     },
     "execution_count": 7,
     "metadata": {},
     "output_type": "execute_result"
    }
   ],
   "source": [
    "zahara.registrar_herramienta (\"photoshop\")"
   ]
  },
  {
   "cell_type": "code",
   "execution_count": 8,
   "metadata": {},
   "outputs": [
    {
     "data": {
      "text/plain": [
       "'Enhorabuena por el ascenso a super jefa. Tu salario ha incrementado, siendo actualmente de 5500'"
      ]
     },
     "execution_count": 8,
     "metadata": {},
     "output_type": "execute_result"
    }
   ],
   "source": [
    "zahara.cambiar_posicion(\"super jefa\", 5500)"
   ]
  },
  {
   "cell_type": "code",
   "execution_count": 9,
   "metadata": {},
   "outputs": [
    {
     "data": {
      "text/plain": [
       "'Después de pedir esos días te quedan 7'"
      ]
     },
     "execution_count": 9,
     "metadata": {},
     "output_type": "execute_result"
    }
   ],
   "source": [
    "zahara.tomar_vacaciones()"
   ]
  },
  {
   "cell_type": "code",
   "execution_count": 10,
   "metadata": {},
   "outputs": [
    {
     "ename": "UnboundLocalError",
     "evalue": "local variable 'salario_nuevo' referenced before assignment",
     "output_type": "error",
     "traceback": [
      "\u001b[0;31m---------------------------------------------------------------------------\u001b[0m",
      "\u001b[0;31mUnboundLocalError\u001b[0m                         Traceback (most recent call last)",
      "\u001b[0;32m/tmp/ipykernel_27121/2626153497.py\u001b[0m in \u001b[0;36m<module>\u001b[0;34m\u001b[0m\n\u001b[0;32m----> 1\u001b[0;31m \u001b[0mzahara\u001b[0m\u001b[0;34m.\u001b[0m\u001b[0msolicitar_aumento_salario\u001b[0m\u001b[0;34m(\u001b[0m\u001b[0;34m)\u001b[0m\u001b[0;34m\u001b[0m\u001b[0;34m\u001b[0m\u001b[0m\n\u001b[0m",
      "\u001b[0;32m/tmp/ipykernel_27121/1634418173.py\u001b[0m in \u001b[0;36msolicitar_aumento_salario\u001b[0;34m(self)\u001b[0m\n\u001b[1;32m     79\u001b[0m \u001b[0;34m\u001b[0m\u001b[0m\n\u001b[1;32m     80\u001b[0m         \u001b[0;32mif\u001b[0m \u001b[0msolicitud_salario\u001b[0m \u001b[0;34m>\u001b[0m \u001b[0;36m0\u001b[0m\u001b[0;34m:\u001b[0m\u001b[0;34m\u001b[0m\u001b[0;34m\u001b[0m\u001b[0m\n\u001b[0;32m---> 81\u001b[0;31m             \u001b[0msalario_nuevo\u001b[0m \u001b[0;34m=\u001b[0m \u001b[0;34m(\u001b[0m\u001b[0;34m(\u001b[0m\u001b[0msolicitud_salario\u001b[0m\u001b[0;34m/\u001b[0m\u001b[0;36m100\u001b[0m\u001b[0;34m)\u001b[0m \u001b[0;34m*\u001b[0m \u001b[0msalario_nuevo\u001b[0m\u001b[0;34m)\u001b[0m \u001b[0;34m+\u001b[0m \u001b[0msalario_nuevo\u001b[0m\u001b[0;34m\u001b[0m\u001b[0;34m\u001b[0m\u001b[0m\n\u001b[0m\u001b[1;32m     82\u001b[0m             \u001b[0;32mreturn\u001b[0m \u001b[0;34mf\"Tu solicitud de un aumento de {solicitud_salario}% ha sido validado. Después de este aumento, tu salario es de {salario_nuevo}\"\u001b[0m\u001b[0;34m\u001b[0m\u001b[0;34m\u001b[0m\u001b[0m\n\u001b[1;32m     83\u001b[0m \u001b[0;34m\u001b[0m\u001b[0m\n",
      "\u001b[0;31mUnboundLocalError\u001b[0m: local variable 'salario_nuevo' referenced before assignment"
     ]
    }
   ],
   "source": [
    "zahara.solicitar_aumento_salario()"
   ]
  },
  {
   "cell_type": "code",
   "execution_count": null,
   "metadata": {},
   "outputs": [],
   "source": []
  },
  {
   "cell_type": "code",
   "execution_count": 15,
   "metadata": {},
   "outputs": [
    {
     "name": "stdout",
     "output_type": "stream",
     "text": [
      "Eres autocrítico, eso está bien. Reflexiona sobre cómo podrías mejorar e impléntalo.\n",
      "Esta respuesta está basada en tu respuesta, que ha sido: Malo\n"
     ]
    }
   ],
   "source": [
    "#Metodo 9 (sin ser método)\n",
    "\n",
    "respuesta_valida = [\"Excelente\", \"Bueno\", \"Regular\", \"Malo\"]\n",
    "\n",
    "solicitud = input(\"Califica tu desempeño como 'Excelente', 'Bueno', 'Regular' o 'Malo'.\")\n",
    "\n",
    "#Definimos mensajes de retroalimentación\n",
    "mensaje_excelente = \"Enhorabuena, estás contento con tu labor. Disfruta la autosatisfacción.\"\n",
    "mensaje_bueno = \"Muy bien, cumples con tus expectativas, aunque siempre se puede aspirar a la perfección.\"\n",
    "mensaje_regular = \"Eres autocrítico, eso está bien. Reflexiona sobre cómo podrías mejorar e impléntalo.\"\n",
    "mensaje_malo = \"Tú mismo ves que no estás dando lo suficiente. Eso no es agradable. Piensa en cómo revertirlo. ¡Ánimo!\"\n",
    "\n",
    "while solicitud  not in respuesta_valida :\n",
    "    solicitud = input(f\"Esa respuesta no es válida, elige entre {respuesta_valida}.\").lower()\n",
    "if solicitud in respuesta_valida[1] : \n",
    "    print (mensaje_excelente)    \n",
    "elif solicitud in respuesta_valida[2] : \n",
    "    print (mensaje_bueno)  \n",
    "elif solicitud in respuesta_valida[3] : \n",
    "    print (mensaje_regular)  \n",
    "elif solicitud in respuesta_valida[4] : \n",
    "    print(mensaje_malo)  \n",
    "    \n",
    "print(f\"Esta respuesta está basada en tu respuesta, que ha sido: {solicitud}\")\n"
   ]
  },
  {
   "cell_type": "code",
   "execution_count": 16,
   "metadata": {},
   "outputs": [],
   "source": [
    "#EJERCICIO 2 HERENCIA \n",
    "class Gerente(Empleados):\n",
    "    def __init__(self, nombre, apellido,edad,posicion,año,vacaciones,herramientas,salario,departamento,empleados_a_cargo,):\n",
    "        super().__init__(nombre,apellido,edad,posicion,año,vacaciones,herramientas,salario)\n",
    "            #No tengo muy claro que haya que repetir todo lo que se hereda pero si no, no consigo que funcione\n",
    "        self.departamento = departamento\n",
    "        self.empleados_a_cargo = empleados_a_cargo\n",
    "\n",
    "\n",
    "    def asignar_tareas(self,tarea,empleado):\n",
    "        return f\"El gerente ha asignado {tarea} como tarea para {empleado}\"\n",
    "    \n",
    "\n",
    "    def revisar_desempeño_empleado(self,empleado):\n",
    "        return f\"El gerente está revisando el desempeño laboral de {empleado}.\"\n",
    "    \n",
    "\n",
    "    def gestionar_empleado(self, accion,empleado):\n",
    "        if accion == \"contratar\":\n",
    "            self.empleados_a_cargo.append(empleado)\n",
    "            return f\"El gerente ha contrado a {empleado}.\"\n",
    "        elif accion == \"despedir\":\n",
    "            if empleado in self.empleados_a_cargo:\n",
    "                self.empleados_a_cargo.remove(empleado)\n",
    "                return f\"Sentimos comunicar que {empleado} ha sido despedido\"\n",
    "            else:\n",
    "                \"Esta acción no es válida\"\n",
    "\n",
    "#Cómo se llama al método? Dice que Zahara is not defined\n"
   ]
  },
  {
   "cell_type": "code",
   "execution_count": 17,
   "metadata": {},
   "outputs": [
    {
     "ename": "AttributeError",
     "evalue": "'Empleados' object has no attribute 'gestionar_empleado'",
     "output_type": "error",
     "traceback": [
      "\u001b[0;31m---------------------------------------------------------------------------\u001b[0m",
      "\u001b[0;31mAttributeError\u001b[0m                            Traceback (most recent call last)",
      "\u001b[0;32m/tmp/ipykernel_27121/3197708589.py\u001b[0m in \u001b[0;36m<module>\u001b[0;34m\u001b[0m\n\u001b[0;32m----> 1\u001b[0;31m \u001b[0mzahara\u001b[0m\u001b[0;34m.\u001b[0m\u001b[0mgestionar_empleado\u001b[0m\u001b[0;34m(\u001b[0m\u001b[0;34m)\u001b[0m\u001b[0;34m\u001b[0m\u001b[0;34m\u001b[0m\u001b[0m\n\u001b[0m",
      "\u001b[0;31mAttributeError\u001b[0m: 'Empleados' object has no attribute 'gestionar_empleado'"
     ]
    }
   ],
   "source": [
    "zahara.gestionar_empleado()\n"
   ]
  }
 ],
 "metadata": {
  "kernelspec": {
   "display_name": "base",
   "language": "python",
   "name": "python3"
  },
  "language_info": {
   "codemirror_mode": {
    "name": "ipython",
    "version": 3
   },
   "file_extension": ".py",
   "mimetype": "text/x-python",
   "name": "python",
   "nbconvert_exporter": "python",
   "pygments_lexer": "ipython3",
   "version": "3.9.7"
  }
 },
 "nbformat": 4,
 "nbformat_minor": 2
}
