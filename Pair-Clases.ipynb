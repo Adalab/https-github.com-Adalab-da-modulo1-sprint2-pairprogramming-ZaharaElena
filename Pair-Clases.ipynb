{
 "cells": [
  {
   "cell_type": "markdown",
   "metadata": {},
   "source": [
    "# Ejercicios PAIR "
   ]
  },
  {
   "cell_type": "markdown",
   "metadata": {},
   "source": [
    "### Lección 8: Clase"
   ]
  },
  {
   "cell_type": "markdown",
   "metadata": {},
   "source": [
    "Ejercicios leccion tema\n"
   ]
  },
  {
   "cell_type": "code",
   "execution_count": 5,
   "metadata": {},
   "outputs": [],
   "source": [
    "from datetime import date"
   ]
  },
  {
   "cell_type": "code",
   "execution_count": 6,
   "metadata": {},
   "outputs": [
    {
     "name": "stdout",
     "output_type": "stream",
     "text": [
      "2023\n"
     ]
    }
   ],
   "source": [
    "today = date.today().year #antiguedad -años\n",
    "print(today)"
   ]
  },
  {
   "cell_type": "code",
   "execution_count": 20,
   "metadata": {},
   "outputs": [],
   "source": [
    "\n",
    "# Definimos la clase y sus atributos\n",
    "class Empleados :\n",
    "    def __init__ (self, nombre, apellidos, edad, posicion, año, vacaciones, herramientas) :\n",
    "        self.nombre = nombre\n",
    "        self.apellidos = apellidos\n",
    "        self.edad = edad\n",
    "        self.posicion = posicion\n",
    "        self.año = año\n",
    "        self.vacaciones = vacaciones \n",
    "        self.herramientas = herramientas\n",
    "\n",
    "# Definimos metodos\n",
    "\n",
    "#Metodo  1\n",
    "    def descripcion (self):\n",
    "        return f\"El empleado se llama {self.nombre} {self.apellidos}, su posición es {self.posicion} y le quedan {self.vacaciones} días de vacaciones. Y tiene estas habilidades {self.herramientas}\"\n",
    "    \n",
    "#Metodo  2\n",
    "    def cambiando_posicion (self):\n",
    "        if self.herramientas == \"Excel\".lower() :  \n",
    "            return \"Aprende Python, hijo mío, estás obsoleto\"\n",
    "        elif self.herramientas == \"Python\".lower() :\n",
    "            return \"Muy bien, chaval, vas aprendiendo\"\n",
    "        \n",
    "#Metodo 3\n",
    "    def calcular_antiguedad (self) : \n",
    "        today = date.today().year\n",
    "        antiguedad = (date.today().year) - (self.año)\n",
    "        return f\"Este empleado lleva en la empresa {antiguedad} años y {date.today().month} meses\"\n",
    "\n",
    "#ponemos el mes en el que estamos para simplificar, asumimos que ha entrado en enero\n",
    "\n",
    "#Metodo 4\n",
    "    def solicitar_aumento_vacaciones (self) :\n",
    "        dias_solicitados = int(input(\"¿Cuántos días de vacaciones te quieres tomar?\"))\n",
    "        while dias_solicitados <= 0 or  dias_solicitados > self.vacaciones :\n",
    "            print(\"Introduce un número válido\")\n",
    "            dias_solicitados = int(input(f\"Introduce un número entre 1 y {self.vacaciones}\"))\n",
    "\n",
    "        if dias_solicitados <= self.vacaciones :\n",
    "            self.vacaciones = self.vacaciones - dias_solicitados  \n",
    "            return f\"Después de pedir esos días te quedan {self.vacaciones}\"\n",
    "\n",
    "#Método5\n",
    "    def registrar_herramienta (self, nueva_herramienta):\n",
    "        \n",
    "        if nueva_herramienta in self.herramientas:\n",
    "            return f\"Esta herramienta ya está incluída en tu lista de habilidades\"\n",
    "        \n",
    "        else:\n",
    "            self.herramientas.append (nueva_herramienta)\n",
    "            return f\"Esta nueva habilidad ({nueva_herramienta}) se ha registrado correctamente en tu lista de habilidades: {self.herramientas}\"\n",
    "    \n",
    "#Método6\n",
    "    def cambiar_posicion (self, nueva_posicion, nuevo_salario):\n",
    "        self.posicion = self.posicion.replace(self.posicion, nueva_posicion)\n",
    "        return f\"Enhorabuena por el ascenso a {self.posicion}. Tu salario ha incrementado, siendo actualmente de {nuevo_salario}\"\n",
    "\n",
    "#Método7\n",
    "    def tomar_vacaciones (self):\n",
    "        dias_a_solicitar = int(input(\"¿Cuántos días de vacaciones te quieres tomar?\"))\n",
    "        \n",
    "        while dias_a_solicitar <= 0 or  dias_a_solicitar > self.vacaciones:\n",
    "            print(\"Introduce un número válido\")\n",
    "            dias__a_solicitar = int(input(f\"Introduce un número entre 1 y {self.vacaciones}\"))\n",
    "        \n",
    "        if dias_a_solicitar <= self.vacaciones:\n",
    "            self.vacaciones = self.vacaciones - dias_a_solicitar  \n",
    "            return f\"Después de pedir esos días te quedan {self.vacaciones}\"\n",
    "\n",
    "#Método8\n",
    "    def solicitar_aumento_salario (self):\n",
    "        solicitud_salario = float(input(\"¿Qué aumento quieres solicitar?\"))\n",
    "        \n",
    "        while solicitud_salario <= 0:\n",
    "            salario_nuevo = float(input(\"¿Incluye un aumento porcentual válido (mayor que cero)\"))\n",
    "            return f\"El valor introducido de {solicitud_salario} es erróneo. Inserte el aumento porcentual deseado\"\n",
    "\n",
    "        if solicitud_salario > 0:\n",
    "            salario_nuevo = ((solicitud_salario/100) * salario_nuevo) + salario_nuevo\n",
    "            return f\"Tu solicitud de un aumento de {solicitud_salario}% ha sido validado. Después de este aumento, tu salario es de {salario_nuevo}\"\n",
    "\n",
    "\n",
    "\n",
    "\n",
    "\n",
    "    \n",
    "\n"
   ]
  },
  {
   "cell_type": "code",
   "execution_count": 18,
   "metadata": {},
   "outputs": [
    {
     "data": {
      "text/plain": [
       "\"El empleado se llama zahara prada, su posición es gerente y le quedan 10 días de vacaciones. Y tiene estas habilidades ['excel', 'word']\""
      ]
     },
     "execution_count": 18,
     "metadata": {},
     "output_type": "execute_result"
    }
   ],
   "source": [
    "zahara = Empleados(\"zahara\", \"prada\", 38, \"gerente\", 2020, 10, [\"excel\", \"word\"] )\n",
    "\n",
    "zahara.descripcion()"
   ]
  },
  {
   "cell_type": "code",
   "execution_count": 15,
   "metadata": {},
   "outputs": [
    {
     "data": {
      "text/plain": [
       "'Este empleado lleva en la empresa 3 años y 10 meses'"
      ]
     },
     "execution_count": 15,
     "metadata": {},
     "output_type": "execute_result"
    }
   ],
   "source": [
    "zahara.calcular_antiguedad()"
   ]
  },
  {
   "cell_type": "code",
   "execution_count": 52,
   "metadata": {},
   "outputs": [
    {
     "name": "stdout",
     "output_type": "stream",
     "text": [
      "['excel', 'word', 'photoshop']\n"
     ]
    },
    {
     "data": {
      "text/plain": [
       "'Esta herramienta ya está incluída en tu lista de habilidades'"
      ]
     },
     "execution_count": 52,
     "metadata": {},
     "output_type": "execute_result"
    }
   ],
   "source": [
    "zahara.registrar_herramienta (\"photoshop\")"
   ]
  },
  {
   "cell_type": "code",
   "execution_count": 5,
   "metadata": {},
   "outputs": [
    {
     "data": {
      "text/plain": [
       "'Enhorabuena por el ascenso a super jefa. Tu salario ha incrementado, siendo actualmente de 5500'"
      ]
     },
     "execution_count": 5,
     "metadata": {},
     "output_type": "execute_result"
    }
   ],
   "source": [
    "zahara.cambiar_posicion(\"super jefa\", 5500)"
   ]
  },
  {
   "cell_type": "code",
   "execution_count": 11,
   "metadata": {},
   "outputs": [
    {
     "data": {
      "text/plain": [
       "'Después de pedir esos días te quedan 7'"
      ]
     },
     "execution_count": 11,
     "metadata": {},
     "output_type": "execute_result"
    }
   ],
   "source": [
    "zahara.tomar_vacaciones()"
   ]
  },
  {
   "cell_type": "code",
   "execution_count": 19,
   "metadata": {},
   "outputs": [
    {
     "ename": "UnboundLocalError",
     "evalue": "local variable 'salario_nuevo' referenced before assignment",
     "output_type": "error",
     "traceback": [
      "\u001b[0;31m---------------------------------------------------------------------------\u001b[0m",
      "\u001b[0;31mUnboundLocalError\u001b[0m                         Traceback (most recent call last)",
      "\u001b[0;32m/tmp/ipykernel_244/2626153497.py\u001b[0m in \u001b[0;36m<module>\u001b[0;34m\u001b[0m\n\u001b[0;32m----> 1\u001b[0;31m \u001b[0mzahara\u001b[0m\u001b[0;34m.\u001b[0m\u001b[0msolicitar_aumento_salario\u001b[0m\u001b[0;34m(\u001b[0m\u001b[0;34m)\u001b[0m\u001b[0;34m\u001b[0m\u001b[0;34m\u001b[0m\u001b[0m\n\u001b[0m",
      "\u001b[0;32m/tmp/ipykernel_244/1025730697.py\u001b[0m in \u001b[0;36msolicitar_aumento_salario\u001b[0;34m(self)\u001b[0m\n\u001b[1;32m     78\u001b[0m \u001b[0;34m\u001b[0m\u001b[0m\n\u001b[1;32m     79\u001b[0m         \u001b[0;32mif\u001b[0m \u001b[0msolicitud_salario\u001b[0m \u001b[0;34m>\u001b[0m \u001b[0;36m0\u001b[0m\u001b[0;34m:\u001b[0m\u001b[0;34m\u001b[0m\u001b[0;34m\u001b[0m\u001b[0m\n\u001b[0;32m---> 80\u001b[0;31m             \u001b[0msalario_nuevo\u001b[0m \u001b[0;34m=\u001b[0m \u001b[0;34m(\u001b[0m\u001b[0;34m(\u001b[0m\u001b[0msolicitud_salario\u001b[0m\u001b[0;34m/\u001b[0m\u001b[0;36m100\u001b[0m\u001b[0;34m)\u001b[0m \u001b[0;34m*\u001b[0m \u001b[0msalario_nuevo\u001b[0m\u001b[0;34m)\u001b[0m \u001b[0;34m+\u001b[0m \u001b[0msalario_nuevo\u001b[0m\u001b[0;34m\u001b[0m\u001b[0;34m\u001b[0m\u001b[0m\n\u001b[0m\u001b[1;32m     81\u001b[0m             \u001b[0;32mreturn\u001b[0m \u001b[0;34mf\"Tu solicitud de un aumento de {solicitud_salario}% ha sido validado. Después de este aumento, tu salario es de {salario_nuevo}\"\u001b[0m\u001b[0;34m\u001b[0m\u001b[0;34m\u001b[0m\u001b[0m\n\u001b[1;32m     82\u001b[0m \u001b[0;34m\u001b[0m\u001b[0m\n",
      "\u001b[0;31mUnboundLocalError\u001b[0m: local variable 'salario_nuevo' referenced before assignment"
     ]
    }
   ],
   "source": [
    "zahara.solicitar_aumento_salario()"
   ]
  }
 ],
 "metadata": {
  "kernelspec": {
   "display_name": "base",
   "language": "python",
   "name": "python3"
  },
  "language_info": {
   "codemirror_mode": {
    "name": "ipython",
    "version": 3
   },
   "file_extension": ".py",
   "mimetype": "text/x-python",
   "name": "python",
   "nbconvert_exporter": "python",
   "pygments_lexer": "ipython3",
   "version": "3.9.7"
  }
 },
 "nbformat": 4,
 "nbformat_minor": 2
}
