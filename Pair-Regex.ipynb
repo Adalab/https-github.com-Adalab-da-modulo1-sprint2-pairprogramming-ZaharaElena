{
 "cells": [
  {
   "cell_type": "markdown",
   "metadata": {},
   "source": [
    "# Ejercicios Pair "
   ]
  },
  {
   "cell_type": "markdown",
   "metadata": {},
   "source": [
    "### Lección 8: Regex"
   ]
  },
  {
   "cell_type": "markdown",
   "metadata": {},
   "source": [
    "Ejercicios leccion tema\n"
   ]
  },
  {
   "cell_type": "code",
   "execution_count": null,
   "metadata": {},
   "outputs": [],
   "source": [
    "import re"
   ]
  },
  {
   "cell_type": "code",
   "execution_count": 19,
   "metadata": {},
   "outputs": [
    {
     "name": "stdout",
     "output_type": "stream",
     "text": [
      "['(123) 456-7890', '(555) 238-1987']\n"
     ]
    }
   ],
   "source": [
    "#1. Validar un número de teléfono.\n",
    "#Descripción: Verificar si una cadena representa un número de teléfono válido en el formato (XXX) XXX-XXXX.\n",
    "#Probad para cada uno de los teléfonos que tenemos en la siguiente lista:\n",
    "# telefonos = [\"(123) 456-7890\", \"178 1890-733\", \"(555) 238-1987\", \"(123) 4560-7890\", \"(ABC) 098-1111\"]\n",
    "\n",
    "telefonos = [\"(123) 456-7890\", \"178 1890-733\", \"(555) 238-1987\", \"(123) 4560-7890\", \"(ABC) 098-1111\"]\n",
    "telefonos_verificados = []\n",
    "for telefono in telefonos :\n",
    "    telf_patron = re.findall(\"\\(\\d{3}\\)\\s\\d{3}-\\d{4}\", telefono)\n",
    "    if len(telf_patron) != 0 :\n",
    "        telefonos_verificados.append(telefono) \n",
    "print(telefonos_verificados)\n",
    "\n"
   ]
  },
  {
   "cell_type": "code",
   "execution_count": 3,
   "metadata": {},
   "outputs": [
    {
     "name": "stdout",
     "output_type": "stream",
     "text": [
      "user@example.com\n",
      "john.doe@email.com\n"
     ]
    }
   ],
   "source": [
    "#2. Buscar todas las direcciones de correo electrónico en un texto.\n",
    "#Descripción: Encontrar todas las direcciones de correo electrónico presentes en una cadena de texto.\n",
    "#Probad con el siguiente string:\n",
    "#texto = \"Mi correo es user@example.com. Contacta conmigo en john.doe@email.com\"\n",
    "\n",
    "#¿Hay algo con caracteres delante y detras de la @\n",
    "\n",
    "texto = \"Mi correo es user@example.com. Contacta conmigo en john.doe@email.com\"\n",
    "\n",
    "# Utilizamos una expresión regular para buscar direcciones de correo electrónico en el texto\n",
    "patron = r'\\b[A-Za-z0-9._%+-]+@[A-Za-z0-9.-]+\\.[A-Z|a-z]{2,7}\\b'\n",
    "emails = re.findall(patron, texto)\n",
    "\n",
    "# Imprimimos las direcciones de correo encontradas\n",
    "for mail in emails:\n",
    "    print(mail)\n",
    "\n",
    "\n",
    "\n"
   ]
  },
  {
   "cell_type": "code",
   "execution_count": 4,
   "metadata": {},
   "outputs": [
    {
     "name": "stdout",
     "output_type": "stream",
     "text": [
      "12345 es un código postal válido.\n",
      "190037 no es un código postal válido.\n",
      "78409 es un código postal válido.\n",
      "986449 no es un código postal válido.\n",
      "19305 es un código postal válido.\n"
     ]
    }
   ],
   "source": [
    "#3. Validar un código postal.\n",
    "#Descripción: Verificar si una cadena representa un código postal válido de 5 dígitos.\n",
    "#Probad para cada uno de los códigos postales que tenemos en la siguiente lista:\n",
    "# codigos_postales = [\"12345\", \"190037\", \"78409\", \"986449\", \"19305\"]\n",
    "\n",
    "import re\n",
    "\n",
    "codigos_postales = [\"12345\", \"190037\", \"78409\", \"986449\", \"19305\"]\n",
    "\n",
    "for codigo in codigos_postales:\n",
    "    if re.match(r'^\\d{5}$', codigo):\n",
    "        print(f\"{codigo} es un código postal válido.\")\n",
    "    else:\n",
    "        print(f\"{codigo} no es un código postal válido.\")\n",
    "\n",
    "\n",
    "\n"
   ]
  },
  {
   "cell_type": "code",
   "execution_count": 8,
   "metadata": {},
   "outputs": [
    {
     "name": "stdout",
     "output_type": "stream",
     "text": [
      "El\n",
      "está\n",
      "Ana\n",
      "una\n",
      "es\n"
     ]
    }
   ],
   "source": [
    "#4. Encontrar todas las palabras que comienzan con una vocal en un texto.\n",
    "#Descripción: Encontrar todas las palabras en un texto que comienzan con una vocal (a, e, i, o, u).\n",
    "#Probad con el siguiente string:\n",
    "# texto = \"El perro está ladrando. Ana tiene una manzana. La casa es grande.\"\n",
    "\n",
    "texto = \"El perro está ladrando. Ana tiene una manzana. La casa es grande.\"\n",
    "\n",
    "palabras_vocal = re.findall(r'\\b[aeiouAEIOU]\\w*', texto)\n",
    "\n",
    "for palabra in palabras_vocal:\n",
    "    print(palabra)\n",
    "\n",
    "\n",
    "\n",
    "\n"
   ]
  },
  {
   "cell_type": "code",
   "execution_count": 11,
   "metadata": {},
   "outputs": [],
   "source": [
    "#5. Extraer todos los hashtags de un texto.\n",
    "#Descripción: Extraer todos los hashtags (#) presentes en una cadena de texto.\n",
    "#Probad con el siguiente string:\n",
    "# texto = \"Me encanta el #deporte. #FelizViernes a todos. Estoy en la conferencia #Tech2022.\"\n",
    "\n",
    "\n",
    "texto = \"Me encanta el #deporte. #FelizViernes a todos. Estoy en la conferencia #Tech2022.\"\n",
    "\n",
    "def extraer_hashtags(texto):\n",
    "    # Usamos una expresión regular para encontrar todos los hashtags en el texto.\n",
    "    hashtags = re.findall(r'#\\s+', texto)\n",
    "    return hashtags\n",
    "\n",
    "hashtags_encontrados = extraer_hashtags(texto)\n",
    "\n",
    "for hashtag in hashtags_encontrados:\n",
    "    print(hashtag)\n",
    "\n",
    "#NO FUNCIONA\n",
    "\n"
   ]
  },
  {
   "cell_type": "code",
   "execution_count": null,
   "metadata": {},
   "outputs": [],
   "source": [
    "#6. Buscar todos los números decimales en una cadena de texto.\n",
    "#Descripción: Encontrar todos los números decimales presentes en una cadena de texto.\n",
    "#Probad con el siguiente string:\n",
    "# texto = \"El precio es $19.99. La temperatura es 25.5°C. El índice de inflación es del 2.5%.\"     \n",
    "\n",
    "texto = \"El precio es $19.99. La temperatura es 25.5°C. El índice de inflación es del 2.5%.\"\n",
    "\n",
    "patron = r'\\d+\\.\\d+'\n",
    "numeros_decimales = re.findall(patron, texto)\n",
    "for numero in numeros_decimales:\n",
    "    print(numero)\n",
    "\n",
    "\n"
   ]
  },
  {
   "cell_type": "code",
   "execution_count": null,
   "metadata": {},
   "outputs": [],
   "source": [
    "#7. Validar un nombre de usuario.\n",
    "#Descripción: Verificar si una cadena representa un nombre de usuario válido, que contiene solo letras minúsculas, números y guiones bajos (_).\n",
    "#Probad con la siguiente lista de usuarios:\n",
    "#lista_usuarios = [\"juan_doe123\", \"lola_12\", \"Aurora_23\", \"12marta_lopez\"]\n",
    "\n",
    "\n",
    "\n",
    "\n"
   ]
  },
  {
   "cell_type": "code",
   "execution_count": null,
   "metadata": {},
   "outputs": [],
   "source": [
    "#8. Encontrar todas las fechas en formato \"dd/mm/aaaa\" en un texto.\n",
    "#Descripción: Encontrar todas las fechas válidas en formato \"dd/mm/aaaa\" presentes en una cadena de texto.\n",
    "#Probad con el siguiente string:\n",
    "# texto = \"La fecha límite es el 31/12/2022. Hoy es 01/01/2023. Cumpleaños: 15/05/1990.\"\n",
    "\n",
    "\n",
    "\n",
    "\n"
   ]
  },
  {
   "cell_type": "code",
   "execution_count": 13,
   "metadata": {},
   "outputs": [
    {
     "name": "stdout",
     "output_type": "stream",
     "text": [
      "Hola cmo ests Todo bien\n"
     ]
    }
   ],
   "source": [
    "#9. Remover caracteres especiales.\n",
    "#Descripción: Dada una cadena de texto, remover cualquier carácter especial, como signos de puntuación y símbolos.\n",
    "#Probad con el siguiente string:\n",
    "# texto = '¡Hola, cómo estás? ¿Todo bien?'\n",
    "\n",
    "texto = '¡Hola, cómo estás? ¿Todo bien?'\n",
    "def remover_caracteres_especiales(texto):\n",
    "    texto_remover = re.sub(r'[^a-zA-Z0-9\\s]', '', texto)\n",
    "    return texto_remover\n",
    "texto_corregido = remover_caracteres_especiales(texto)\n",
    "print(texto_corregido)\n",
    "\n",
    "#Elimina también las letras con tilde \n",
    "\n"
   ]
  },
  {
   "cell_type": "code",
   "execution_count": null,
   "metadata": {},
   "outputs": [],
   "source": [
    "#10. BONUS: Enmascarar información personal.\n",
    "#Descripción: Dada una cadena de texto que contiene información personal, como nombres y direcciones, enmascarar esta información reemplazándola con asteriscos (*).\n",
    "#Probad con este string:\n",
    "# texto = 'El nombre del cliente es John Doe y su dirección es 123 Main Street.'\n",
    "\n",
    "\n",
    "\n",
    "\n"
   ]
  },
  {
   "cell_type": "code",
   "execution_count": null,
   "metadata": {},
   "outputs": [],
   "source": [
    "\n",
    "\n",
    "\n",
    "\n"
   ]
  },
  {
   "cell_type": "code",
   "execution_count": null,
   "metadata": {},
   "outputs": [],
   "source": [
    "\n",
    "\n",
    "\n",
    "\n"
   ]
  },
  {
   "cell_type": "code",
   "execution_count": null,
   "metadata": {},
   "outputs": [],
   "source": [
    "\n",
    "\n",
    "\n",
    "\n"
   ]
  },
  {
   "cell_type": "code",
   "execution_count": null,
   "metadata": {},
   "outputs": [],
   "source": [
    "\n",
    "\n",
    "\n",
    "\n"
   ]
  },
  {
   "cell_type": "code",
   "execution_count": null,
   "metadata": {},
   "outputs": [],
   "source": [
    "\n",
    "\n",
    "\n",
    "\n"
   ]
  }
 ],
 "metadata": {
  "kernelspec": {
   "display_name": "base",
   "language": "python",
   "name": "python3"
  },
  "language_info": {
   "codemirror_mode": {
    "name": "ipython",
    "version": 3
   },
   "file_extension": ".py",
   "mimetype": "text/x-python",
   "name": "python",
   "nbconvert_exporter": "python",
   "pygments_lexer": "ipython3",
   "version": "3.9.7"
  }
 },
 "nbformat": 4,
 "nbformat_minor": 2
}
