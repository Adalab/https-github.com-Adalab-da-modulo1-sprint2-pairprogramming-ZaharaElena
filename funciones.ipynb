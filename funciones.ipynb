{
 "cells": [
  {
   "cell_type": "markdown",
   "metadata": {},
   "source": [
    "## Funciones"
   ]
  },
  {
   "cell_type": "code",
   "execution_count": null,
   "metadata": {},
   "outputs": [],
   "source": [
    "#1 Calcular el área de un círculo\n",
    "#Descripción: Crea una función llamada calcular_area_circulo que tome el radio como parámetro y devuelva el área del círculo.\n",
    "\n",
    "def calcular_area_circulo (r, p=3.14):\n",
    "    area = p * (r**2)\n",
    "    return area"
   ]
  },
  {
   "cell_type": "code",
   "execution_count": null,
   "metadata": {},
   "outputs": [],
   "source": [
    "ej = calcular_area_circulo (2)\n",
    "print (ej)"
   ]
  },
  {
   "cell_type": "code",
   "execution_count": null,
   "metadata": {},
   "outputs": [],
   "source": [
    "#2. Contar la cantidad de caracteres en una cadena. \n",
    "# Descripción: Crea una función llamada contar_caracteres que tome una cadena como parámetro y devuelva la cantidad de caracteres que contiene\n",
    "\n",
    "def contar_caracteres (texto):\n",
    "    nro_caracteres = len(texto)\n",
    "\n",
    "    return (nro_caracteres)"
   ]
  },
  {
   "cell_type": "code",
   "execution_count": null,
   "metadata": {},
   "outputs": [],
   "source": [
    "ej2 = contar_caracteres (\"hace un frío que pela\")\n",
    "ej2"
   ]
  },
  {
   "cell_type": "code",
   "execution_count": null,
   "metadata": {},
   "outputs": [],
   "source": [
    "#3. Determinar si una cadena es un palíndromo. \n",
    "# Crea una función llamada es_palindromo que tome una cadena como parámetro y devuelva True si es un palíndromo, o False si no lo es\n",
    "\n",
    "def es_palindromo (palabra):\n",
    "    ppio = 0                                #primera posición de la palabra\n",
    "    fin = len(palabra) - 1                  #Le quito un número pq los índices empiezan por 0\n",
    "    while palabra[ppio] == palabra[fin]:\n",
    "        if ppio >= fin:\n",
    "            return True\n",
    "        ppio += 1\n",
    "        fin -= 1\n",
    "    return False"
   ]
  },
  {
   "cell_type": "code",
   "execution_count": null,
   "metadata": {},
   "outputs": [],
   "source": [
    "ej3= es_palindromo (\"anilina\")\n",
    "ej3"
   ]
  },
  {
   "cell_type": "code",
   "execution_count": null,
   "metadata": {},
   "outputs": [],
   "source": [
    "#4. Calcular el promedio de una lista de números\n",
    "#Descripción: Crea una función llamada calcular_promedio que tome una lista de números como parámetro y devuelva el promedio de todos sus elementos\n",
    "\n",
    "def calcular_promedio (nros):\n",
    "    promedio = sum (nros) / len (nros)\n",
    "\n",
    "    return promedio   "
   ]
  },
  {
   "cell_type": "code",
   "execution_count": null,
   "metadata": {},
   "outputs": [],
   "source": [
    "ej4 = calcular_promedio ([1,2,3,4])\n",
    "ej4"
   ]
  },
  {
   "cell_type": "code",
   "execution_count": null,
   "metadata": {},
   "outputs": [],
   "source": [
    "#5. Calcular el interés compuesto\n",
    "#Descripción: Crea una función llamada calcular_interes_compuesto que tome el capital inicial, la tasa de interés y el número de períodos como parámetros y devuelva el beneficio final después del interés compuesto\n",
    "\n",
    "def calcular_interes_compuesto (capital, interes, periodos):\n",
    "\n",
    "    beneficiofinal = capital + (capital * ((interes/100)* periodos))\n",
    "    return beneficiofinal\n"
   ]
  },
  {
   "cell_type": "code",
   "execution_count": null,
   "metadata": {},
   "outputs": [],
   "source": [
    "ej5 = calcular_interes_compuesto (2000, 10, 2)\n",
    "ej5"
   ]
  },
  {
   "cell_type": "code",
   "execution_count": null,
   "metadata": {},
   "outputs": [],
   "source": [
    "#6. Validar si una palabra es un anagrama de otra\n",
    "#Descripción: Crea una función llamada es_anagrama que tome dos palabras como parámetros y devuelva True si una es un anagrama de la otra, o False si no lo es\n",
    "\n",
    "def es_anagrama (palabra1, palabra2):\n",
    "\n",
    "    palabra1_lista = list(palabra1)\n",
    "    palabra2_lista = list(palabra2)\n",
    "\n",
    "    if palabra1_lista == palabra2_lista.reverse():\n",
    "        return True\n",
    "    else:\n",
    "        return False\n"
   ]
  },
  {
   "cell_type": "code",
   "execution_count": null,
   "metadata": {},
   "outputs": [],
   "source": [
    "ej6 = es_anagrama (\"amor\", \"roma\")   #No funciona.  VERLO\n",
    "ej6"
   ]
  },
  {
   "cell_type": "code",
   "execution_count": null,
   "metadata": {},
   "outputs": [],
   "source": [
    "pal = \"roma\""
   ]
  },
  {
   "cell_type": "code",
   "execution_count": null,
   "metadata": {},
   "outputs": [],
   "source": [
    "listapal = list(\"amor\")\n",
    "listapal"
   ]
  },
  {
   "cell_type": "code",
   "execution_count": null,
   "metadata": {},
   "outputs": [],
   "source": [
    "#Zahara\n",
    "#6. Validar si una palabra es un anagrama de otra\n",
    "#Descripción: Crea una función llamada es_anagrama que tome dos palabras como parámetros y devuelva True si una es un anagrama de la otra, o False si no lo es\n",
    "\n",
    "palabra_1 = \"amor\"\n",
    "palabra_2 = \"roma\"\n",
    "palabra_3 = \"ramon\"\n",
    "\n",
    "def es_anagrama ( palabra_1, palabra_2 ) :\n",
    "    return sorted ( palabra_1 ) == sorted ( palabra_2 ) \n",
    "    return sorted ( palabra_1 ) == sorted ( palabra_3)\n",
    "print (es_anagrama (palabra_1, palabra_2))      #Debe dar True\n",
    "print (es_anagrama (palabra_1, palabra_3))      #Debe dar False\n",
    "\n"
   ]
  },
  {
   "cell_type": "code",
   "execution_count": null,
   "metadata": {},
   "outputs": [],
   "source": [
    "#7. Validar si una cadena de texto es un isograma.\n",
    "#Descripción: Crea una función llamada es_isograma que tome una cadena de texto como parámetro y devuelva True si es un isograma. En caso contrario, devuelve False\n",
    "\n",
    "def es_isograma (cadena_texto):\n",
    "    cadena_texto = list(cadena_texto.lower())\n",
    "\n",
    "    for index, letra in cadena_texto:\n",
    "        if letra != \n",
    "\n",
    "#TERMINARLO"
   ]
  },
  {
   "cell_type": "code",
   "execution_count": null,
   "metadata": {},
   "outputs": [],
   "source": [
    "#8. Concatenar múltiples cadenas de texto\n",
    "#Descripción: Crea una función llamada concatenar_cadenas que tome una cantidad variable de cadenas de texto como argumentos y devuelva una única cadena que contenga la concatenación de todas las cadenas ingresadas\n",
    "\n",
    "cadena_a = \"Hola, Don Pepito.\"\n",
    "cadena_b = \"Hola, Don José.\"\n",
    "cadena_c = \"¿Pasó usted ya por casa?\"\n",
    "cadena_d = \"¿Vio usted a mi abuela?\"\n",
    "cadenas_unidas = \" \"\n",
    "\n",
    "def concatenar_cadenas (*args) : \n",
    "    for cadena in args :\n",
    "        cadenas_unidas = cadena + \" \" + cadena\n",
    "    return cadenas_unidas.strip ()\n",
    "print (cadenas_unidas)\n",
    "\n",
    "#Z: NO FUNCIONA    \n",
    "\n",
    "\n",
    "\n"
   ]
  },
  {
   "cell_type": "code",
   "execution_count": null,
   "metadata": {},
   "outputs": [],
   "source": [
    "#9. Crear un diccionario con información de una persona\n",
    "# Descripción: Crea una función llamada crear_persona que tome como argumentos clave-valor los datos de una persona, como nombre, edad, ciudad, etc., y devuelva un diccionario con toda la información ingresada\n",
    "\n",
    "\n",
    "\n"
   ]
  },
  {
   "cell_type": "code",
   "execution_count": null,
   "metadata": {},
   "outputs": [],
   "source": [
    "#10. Encontrar el número que falta en una lista ordenada de números consecutivos.\n",
    "# Descripción: Crea una función llamada encontrar_numero_faltante que tome una lista de números consecutivos (del 1 al N, sin repetir) con un número faltante y devuelva ese número faltante.\n",
    "\n",
    "import random \n",
    "lista_numeros = range (1, 100)\n",
    "print(lista_numeros)\n",
    "numero_faltante = random.sample(lista_numeros),100 \n",
    "print (numero_faltante)\n",
    "#def encontrar_numero_faltante :\n",
    "\n"
   ]
  },
  {
   "cell_type": "code",
   "execution_count": 73,
   "metadata": {},
   "outputs": [
    {
     "name": "stdout",
     "output_type": "stream",
     "text": [
      "[1, 2, 3, 4, 5, 6, 7, 8, 9, 10, 11, 12, 13, 14, 15, 16, 17, 18, 19, 20, 21, 22, 23, 24, 25, 26, 27, 28, 29, 30, 31, 32, 33, 34, 35, 36, 37, 38, 39, 40, 41, 42, 43, 44, 45, 46, 47, 48, 49, 50, 51, 52, 53, 54, 55, 56, 57, 58, 59, 60, 61, 62, 63, 64, 65, 66, 67, 68, 69, 70, 71, 72, 73, 74, 75, 76, 77, 78, 79, 80, 81, 82, 83, 84, 85, 86, 87, 88, 89, 90, 91, 92, 93, 94, 95, 96, 97, 98, 99, 100]\n"
     ]
    },
    {
     "ename": "AttributeError",
     "evalue": "'builtin_function_or_method' object has no attribute 'lista_numeros'",
     "output_type": "error",
     "traceback": [
      "\u001b[0;31m---------------------------------------------------------------------------\u001b[0m",
      "\u001b[0;31mAttributeError\u001b[0m                            Traceback (most recent call last)",
      "\u001b[0;32m/tmp/ipykernel_4278/545418513.py\u001b[0m in \u001b[0;36m<module>\u001b[0;34m\u001b[0m\n\u001b[1;32m      8\u001b[0m \u001b[0mnumero_eliminado\u001b[0m \u001b[0;34m=\u001b[0m \u001b[0;34m[\u001b[0m \u001b[0mi\u001b[0m \u001b[0;32mfor\u001b[0m \u001b[0mi\u001b[0m \u001b[0;32min\u001b[0m \u001b[0mlista_numeros\u001b[0m\u001b[0;34m]\u001b[0m\u001b[0;34m\u001b[0m\u001b[0;34m\u001b[0m\u001b[0m\n\u001b[1;32m      9\u001b[0m \u001b[0;32mfor\u001b[0m \u001b[0mi\u001b[0m \u001b[0;32min\u001b[0m \u001b[0mlista_numeros\u001b[0m \u001b[0;34m:\u001b[0m\u001b[0;34m\u001b[0m\u001b[0;34m\u001b[0m\u001b[0m\n\u001b[0;32m---> 10\u001b[0;31m     \u001b[0mrandom\u001b[0m\u001b[0;34m(\u001b[0m\u001b[0mlen\u001b[0m\u001b[0;34m.\u001b[0m\u001b[0mlista_numeros\u001b[0m\u001b[0;34m)\u001b[0m\u001b[0;34m\u001b[0m\u001b[0;34m\u001b[0m\u001b[0m\n\u001b[0m\u001b[1;32m     11\u001b[0m     \u001b[0mprint\u001b[0m\u001b[0;34m(\u001b[0m\u001b[0mlista_numeros\u001b[0m\u001b[0;34m)\u001b[0m\u001b[0;34m\u001b[0m\u001b[0;34m\u001b[0m\u001b[0m\n\u001b[1;32m     12\u001b[0m \u001b[0;34m\u001b[0m\u001b[0m\n",
      "\u001b[0;31mAttributeError\u001b[0m: 'builtin_function_or_method' object has no attribute 'lista_numeros'"
     ]
    }
   ],
   "source": [
    "#10. Encontrar el número que falta en una lista ordenada de números consecutivos.\n",
    "# Descripción: Crea una función llamada encontrar_numero_faltante que tome una lista de números consecutivos (del 1 al N, sin repetir) con un número faltante y devuelva ese número faltante.\n",
    "\n",
    "lista_numeros = list(range(1, 100 + 1))\n",
    "print (lista_numeros)\n",
    "\n",
    "import random \n",
    "numero_eliminado = [ i for i in lista_numeros]\n",
    "for i in lista_numeros :\n",
    "    random(len.lista_numeros)\n",
    "    print(lista_numeros)\n",
    "\n",
    "\n",
    "print (numero_eliminado)\n",
    "\n",
    "#No sé seguir\n",
    "\n",
    "\n",
    "\n",
    "\n",
    "\n"
   ]
  },
  {
   "cell_type": "code",
   "execution_count": null,
   "metadata": {},
   "outputs": [],
   "source": [
    "#11. Encontrar el elemento duplicado en una lista de números\n",
    "#Descripción: Crea una función llamada encontrar_duplicado que tome una lista de números enteros y devuelva el elemento que está duplicado en la lista.\n",
    "\n",
    "\n",
    "\n",
    "\n"
   ]
  }
 ],
 "metadata": {
  "kernelspec": {
   "display_name": "base",
   "language": "python",
   "name": "python3"
  },
  "language_info": {
   "codemirror_mode": {
    "name": "ipython",
    "version": 3
   },
   "file_extension": ".py",
   "mimetype": "text/x-python",
   "name": "python",
   "nbconvert_exporter": "python",
   "pygments_lexer": "ipython3",
   "version": "3.9.7"
  }
 },
 "nbformat": 4,
 "nbformat_minor": 2
}
