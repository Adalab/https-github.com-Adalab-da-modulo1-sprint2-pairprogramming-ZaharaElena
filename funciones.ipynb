{
 "cells": [
  {
   "cell_type": "markdown",
   "metadata": {},
   "source": [
    "## Funciones"
   ]
  },
  {
   "cell_type": "code",
   "execution_count": 2,
   "metadata": {},
   "outputs": [],
   "source": [
    "#1 Calcular el área de un círculo\n",
    "#Descripción: Crea una función llamada calcular_area_circulo que tome el radio como parámetro y devuelva el área del círculo.\n",
    "\n",
    "def calcular_area_circulo (r, p=3.14):\n",
    "    area = p * (r**2)\n",
    "    return area"
   ]
  },
  {
   "cell_type": "code",
   "execution_count": 3,
   "metadata": {},
   "outputs": [
    {
     "name": "stdout",
     "output_type": "stream",
     "text": [
      "12.56\n"
     ]
    }
   ],
   "source": [
    "ej = calcular_area_circulo (2)\n",
    "print (ej)"
   ]
  },
  {
   "cell_type": "code",
   "execution_count": 4,
   "metadata": {},
   "outputs": [],
   "source": [
    "#2. Contar la cantidad de caracteres en una cadena. \n",
    "# Descripción: Crea una función llamada contar_caracteres que tome una cadena como parámetro y devuelva la cantidad de caracteres que contiene\n",
    "\n",
    "def contar_caracteres (texto):\n",
    "    nro_caracteres = len(texto)\n",
    "\n",
    "    return (nro_caracteres)"
   ]
  },
  {
   "cell_type": "code",
   "execution_count": 5,
   "metadata": {},
   "outputs": [
    {
     "data": {
      "text/plain": [
       "21"
      ]
     },
     "execution_count": 5,
     "metadata": {},
     "output_type": "execute_result"
    }
   ],
   "source": [
    "ej2 = contar_caracteres (\"hace un frío que pela\")\n",
    "ej2"
   ]
  },
  {
   "cell_type": "code",
   "execution_count": 6,
   "metadata": {},
   "outputs": [],
   "source": [
    "#3. Determinar si una cadena es un palíndromo. \n",
    "# Crea una función llamada es_palindromo que tome una cadena como parámetro y devuelva True si es un palíndromo, o False si no lo es\n",
    "\n",
    "def es_palindromo (palabra):\n",
    "    ppio = 0                                #primera posición de la palabra\n",
    "    fin = len(palabra) - 1                  #Le quito un número pq los índices empiezan por 0\n",
    "    while palabra[ppio] == palabra[fin]:\n",
    "        if ppio >= fin:\n",
    "            return True\n",
    "        ppio += 1\n",
    "        fin -= 1\n",
    "    return False"
   ]
  },
  {
   "cell_type": "code",
   "execution_count": 7,
   "metadata": {},
   "outputs": [
    {
     "data": {
      "text/plain": [
       "True"
      ]
     },
     "execution_count": 7,
     "metadata": {},
     "output_type": "execute_result"
    }
   ],
   "source": [
    "ej3= es_palindromo (\"anilina\")\n",
    "ej3"
   ]
  },
  {
   "cell_type": "code",
   "execution_count": 8,
   "metadata": {},
   "outputs": [],
   "source": [
    "#4. Calcular el promedio de una lista de números\n",
    "#Descripción: Crea una función llamada calcular_promedio que tome una lista de números como parámetro y devuelva el promedio de todos sus elementos\n",
    "\n",
    "def calcular_promedio (nros):\n",
    "    promedio = sum (nros) / len (nros)\n",
    "\n",
    "    return promedio   "
   ]
  },
  {
   "cell_type": "code",
   "execution_count": 9,
   "metadata": {},
   "outputs": [
    {
     "data": {
      "text/plain": [
       "2.5"
      ]
     },
     "execution_count": 9,
     "metadata": {},
     "output_type": "execute_result"
    }
   ],
   "source": [
    "ej4 = calcular_promedio ([1,2,3,4])\n",
    "ej4"
   ]
  },
  {
   "cell_type": "code",
   "execution_count": 10,
   "metadata": {},
   "outputs": [],
   "source": [
    "#5. Calcular el interés compuesto\n",
    "#Descripción: Crea una función llamada calcular_interes_compuesto que tome el capital inicial, la tasa de interés y el número de períodos como parámetros y devuelva el beneficio final después del interés compuesto\n",
    "\n",
    "def calcular_interes_compuesto (capital, interes, periodos):\n",
    "\n",
    "    beneficiofinal = capital + (capital * ((interes/100)* periodos))\n",
    "    return beneficiofinal"
   ]
  },
  {
   "cell_type": "code",
   "execution_count": 11,
   "metadata": {},
   "outputs": [
    {
     "data": {
      "text/plain": [
       "2400.0"
      ]
     },
     "execution_count": 11,
     "metadata": {},
     "output_type": "execute_result"
    }
   ],
   "source": [
    "ej5 = calcular_interes_compuesto (2000, 10, 2)\n",
    "ej5"
   ]
  },
  {
   "cell_type": "code",
   "execution_count": 15,
   "metadata": {},
   "outputs": [
    {
     "name": "stdout",
     "output_type": "stream",
     "text": [
      "True\n",
      "False\n"
     ]
    }
   ],
   "source": [
    "#6. Validar si una palabra es un anagrama de otra\n",
    "#Descripción: Crea una función llamada es_anagrama que tome dos palabras como parámetros y devuelva True si una es un anagrama de la otra, o False si no lo es\n",
    "\n",
    "palabra_1 = \"amor\"\n",
    "palabra_2 = \"roma\"\n",
    "palabra_3 = \"ramon\"\n",
    "\n",
    "def es_anagrama ( palabra_1, palabra_2 ) :\n",
    "    return sorted ( palabra_1 ) == sorted ( palabra_2 ) \n",
    "    return sorted ( palabra_1 ) == sorted ( palabra_3)\n",
    "print (es_anagrama (palabra_1, palabra_2))      #Debe dar True\n",
    "print (es_anagrama (palabra_1, palabra_3))      #Debe dar False\n",
    "\n"
   ]
  },
  {
   "cell_type": "code",
   "execution_count": 17,
   "metadata": {},
   "outputs": [],
   "source": [
    "#7. Validar si una cadena de texto es un isograma.\n",
    "#Descripción: Crea una función llamada es_isograma que tome una cadena de texto como parámetro y devuelva True si es un isograma. En caso contrario, devuelve False\n",
    "\n",
    "def es_isograma (cadena):\n",
    "    lista_cadena = list(cadena)\n",
    "    tupla_cadena = set (lista_cadena)\n",
    "    \n",
    "    if len(lista_cadena) == len(tupla_cadena):\n",
    "        return \"es un isograma\"\n",
    "    else:\n",
    "        return \"no es un isograma\"\n"
   ]
  },
  {
   "cell_type": "code",
   "execution_count": 18,
   "metadata": {},
   "outputs": [
    {
     "data": {
      "text/plain": [
       "'es un isograma'"
      ]
     },
     "execution_count": 18,
     "metadata": {},
     "output_type": "execute_result"
    }
   ],
   "source": [
    "es_isograma (\"code\")"
   ]
  },
  {
   "cell_type": "code",
   "execution_count": null,
   "metadata": {},
   "outputs": [],
   "source": [
    "#8. Concatenar múltiples cadenas de texto\n",
    "#Descripción: Crea una función llamada concatenar_cadenas que tome una cantidad variable de cadenas de texto como argumentos y devuelva una única cadena que contenga la concatenación de todas las cadenas ingresadas \n",
    "\n",
    "def concatenar_cadenas (*args):\n",
    "    concatenar = \"\"\n",
    "    for cadena in args:\n",
    "        concatenar = concatenar + \" \" + cadena\n",
    "    return concatenar"
   ]
  },
  {
   "cell_type": "code",
   "execution_count": null,
   "metadata": {},
   "outputs": [],
   "source": [
    "cadena_a = \"Hola, Don Pepito.\"\n",
    "cadena_b = \"Hola, Don José.\"\n",
    "cadena_c = \"¿Pasó usted ya por casa?\"\n",
    "cadena_d = \"¿Vio usted a mi abuela?\""
   ]
  },
  {
   "cell_type": "code",
   "execution_count": null,
   "metadata": {},
   "outputs": [
    {
     "data": {
      "text/plain": [
       "' Hola, Don Pepito. Hola, Don José. ¿Pasó usted ya por casa? ¿Vio usted a mi abuela?'"
      ]
     },
     "execution_count": 5,
     "metadata": {},
     "output_type": "execute_result"
    }
   ],
   "source": [
    "concatenar_cadenas (cadena_a, cadena_b, cadena_c, cadena_d)"
   ]
  },
  {
   "cell_type": "code",
   "execution_count": null,
   "metadata": {},
   "outputs": [],
   "source": [
    "#9. Crear un diccionario con información de una persona\n",
    "# Descripción: Crea una función llamada crear_persona que tome como argumentos clave-valor los datos de una persona, como nombre, edad, ciudad, etc., y devuelva un diccionario con toda la información ingresada\n",
    "\n",
    "def crear_persona (**kwargs):\n",
    "\n",
    "\n",
    "\n"
   ]
  },
  {
   "cell_type": "code",
   "execution_count": 54,
   "metadata": {},
   "outputs": [],
   "source": [
    "#10. Encontrar el número que falta en una lista ordenada de números consecutivos.\n",
    "# Descripción: Crea una función llamada encontrar_numero_faltante que tome una lista de números consecutivos (del 1 al N, sin repetir) con un número faltante y devuelva ese número faltante.\n",
    "\n",
    "import random \n",
    "\n",
    "def encontrar_numero (*args):\n",
    "    for elemento in range (1,len(args)+1):\n",
    "        if elemento not in args:\n",
    "            print (f\"El elemento que falta es el {elemento}\")\n",
    "            return "
   ]
  },
  {
   "cell_type": "code",
   "execution_count": 56,
   "metadata": {},
   "outputs": [
    {
     "name": "stdout",
     "output_type": "stream",
     "text": [
      "El elemento que falta es el 4\n"
     ]
    }
   ],
   "source": [
    "encontrar_numero (1,2,3,5)"
   ]
  },
  {
   "cell_type": "code",
   "execution_count": 52,
   "metadata": {},
   "outputs": [],
   "source": [
    "#11. Encontrar el elemento duplicado en una lista de números\n",
    "#Descripción: Crea una función llamada encontrar_duplicado que tome una lista de números enteros y devuelva el elemento que está duplicado en la lista.\n",
    "\n",
    "def encontrar_duplicados (lista):\n",
    "\n",
    "    dic_de_duplicados = {}\n",
    "\n",
    "    for elemento in lista:\n",
    "        \n",
    "        if elemento in dic_de_duplicados:\n",
    "            dic_de_duplicados [elemento] += 1\n",
    "        \n",
    "        else:\n",
    "            dic_de_duplicados [elemento] = 1\n",
    "        \n",
    "    print (f\"Los números duplicados son: {dic_de_duplicados}\")\n",
    "\n",
    "    \n",
    "    lista_duplicados = []\n",
    "\n",
    "    for key, value in dic_de_duplicados.items():\n",
    "\n",
    "        if value > 1:\n",
    "            lista_duplicados.append (key)\n",
    "    #print (lista_duplicados)\n",
    "        \n",
    "    return lista_duplicados\n",
    "\n"
   ]
  },
  {
   "cell_type": "code",
   "execution_count": 53,
   "metadata": {},
   "outputs": [
    {
     "name": "stdout",
     "output_type": "stream",
     "text": [
      "Los números duplicados son: {3: 3, 5: 2, 6: 1, 8: 1, 9: 1}\n"
     ]
    },
    {
     "data": {
      "text/plain": [
       "[3, 5]"
      ]
     },
     "execution_count": 53,
     "metadata": {},
     "output_type": "execute_result"
    }
   ],
   "source": [
    "lista_duplicados = [3, 3, 5, 6, 8, 5, 3, 9]\n",
    "encontrar_duplicados (lista_duplicados)"
   ]
  }
 ],
 "metadata": {
  "kernelspec": {
   "display_name": "base",
   "language": "python",
   "name": "python3"
  },
  "language_info": {
   "codemirror_mode": {
    "name": "ipython",
    "version": 3
   },
   "file_extension": ".py",
   "mimetype": "text/x-python",
   "name": "python",
   "nbconvert_exporter": "python",
   "pygments_lexer": "ipython3",
   "version": "3.9.7"
  }
 },
 "nbformat": 4,
 "nbformat_minor": 2
}
